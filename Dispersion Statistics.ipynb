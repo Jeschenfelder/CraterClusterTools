{
 "cells": [
  {
   "cell_type": "code",
   "execution_count": 1,
   "metadata": {},
   "outputs": [],
   "source": [
    "import pandas as pd\n",
    "import math as mt\n",
    "import numpy as np\n",
    "import matplotlib.pyplot as plt"
   ]
  },
  {
   "cell_type": "code",
   "execution_count": 2,
   "metadata": {},
   "outputs": [],
   "source": [
    "#copy dispersion function:\n",
    "def dispersion(ClusterData, x = 'x_coord', y = 'y_coord'):\n",
    "    '''\n",
    "    This function calculates the dispersion of a cluster from a pandas dataframe giving the x and y coordinates of .\n",
    "    The dispersion is defined as the standard deviation of the distance between all possible crater pairs.\n",
    "    This method gives meaningul results for clusters with more than 3 craters in a cluster.\n",
    "    It is using the radius of Mars to convert from lat/lon data to metres.\n",
    "\n",
    "    :param ClusterData: Dataframe containing all craters in clusters\n",
    "    :type ClusterData: pandas dataframe\n",
    "    :param x: column name giving the longitude, defaults to 'x_coord'\n",
    "    :type x: str\n",
    "    :param y: column name giving the latitude, defaults to 'y_coord'\n",
    "    :type y: str\n",
    "    '''\n",
    "    Rmars = 3390000 #radius of Mars in metres\n",
    "    #x and y are the names of the column in ClusterData denoting the x and y coordinates respectively\n",
    "    #Assumes that x and y are in degrees still!\n",
    "    df = ClusterData.copy() #create work copy of database\n",
    "    coord_array = np.array(df[[x, y]]) #create array of xy coordinates for craters in cluster\n",
    "    sep_list = []\n",
    "    for n in range(0, len(coord_array)): #iterating over all craters for separation calculation\n",
    "        for m in range(n+1, len(coord_array)): #calculating seperation ((x2-x1)**2 + (y2 - y1)**2)**0.5 for all combinations\n",
    "            dx= (coord_array[m,0] - coord_array[n,0]) *Rmars*(np.pi/180)*mt.sin(mt.radians(90 - ((coord_array[m,0]+ coord_array[n,0])/2))) #converting to metres based xy coordinates\n",
    "            dy = (coord_array[m,1] - coord_array[n,1]) *Rmars*(np.pi/180)\n",
    "            sep = (dx**2+ dy**2)**0.5\n",
    "            sep_list.append(sep) #adding all separations to list\n",
    "    dispersion = np.std(sep_list) #calculating dispersion as standard deviation\n",
    "    sep_array = np.array(sep_list)\n",
    "    return dispersion, sep_array"
   ]
  },
  {
   "cell_type": "code",
   "execution_count": 52,
   "metadata": {},
   "outputs": [],
   "source": [
    "#import crater data:\n",
    "df = pd.read_excel('DataTables/AllCraters.xlsx', index_col = [0,1])\n",
    "df_parameters = pd.read_excel('DataTables/ClusterParametersAll.xlsx', index_col = 0)"
   ]
  },
  {
   "cell_type": "code",
   "execution_count": 56,
   "metadata": {},
   "outputs": [],
   "source": [
    "#run the dispersion on all clusters and create a Multiindex of all separations for each cluster\n",
    "df_separations = pd.DataFrame()\n",
    "for ID, df_new in df.groupby(level = 0):\n",
    "    if len(df_new.index)>3:\n",
    "        disp, sep_array = dispersion(df_new)\n",
    "        ID_list = len(sep_array)*[ID]\n",
    "        index = [i for i in range(len(sep_array))]\n",
    "        df_sep = pd.DataFrame(data = {'HiRise_ID':ID_list})\n",
    "        df_sep['pair'] = index\n",
    "        df_sep['Separation(m)'] = sep_array\n",
    "        df_sep.set_index(['HiRise_ID', 'pair'], inplace = True)\n",
    "        df_separations = pd.concat([df_separations, df_sep])"
   ]
  },
  {
   "cell_type": "code",
   "execution_count": 60,
   "metadata": {},
   "outputs": [],
   "source": [
    "#adding the mean, median, mode, lowest quartile and lowest decentile to the parameters list\n",
    "mean_dict = {}\n",
    "median_dict = {}\n",
    "mode_dict = {}\n",
    "quart_dict = {}\n",
    "cent_dict = {}\n",
    "for ID, df_new in df_separations.groupby(level = 0):\n",
    "    mean_dict[ID] = df_new['Separation(m)'].mean()\n",
    "    median_dict[ID] = df_new['Separation(m)'].median()\n",
    "    mode_dict[ID] = df_new['Separation(m)'].mode()\n",
    "    cent_dict[ID], quart_dict[ID] = df_new['Separation(m)'].quantile([0.1, 0.25])\n",
    "df_parameters['Separation mean (m)'] = df_parameters['HiRise_ID'].map(mean_dict)\n",
    "df_parameters['Separation median (m)'] = df_parameters['HiRise_ID'].map(median_dict)\n",
    "df_parameters['Separation mode (m)'] = df_parameters['HiRise_ID'].map(mode_dict)\n",
    "df_parameters['Separation lowest decentile (m)'] = df_parameters['HiRise_ID'].map(cent_dict)\n",
    "df_parameters['Separation lowest quartile (m)'] = df_parameters['HiRise_ID'].map(quart_dict)"
   ]
  },
  {
   "cell_type": "code",
   "execution_count": 63,
   "metadata": {},
   "outputs": [],
   "source": [
    "df_parameters.to_excel('ClusterParametersAll.xlsx') #save to the repository"
   ]
  },
  {
   "cell_type": "code",
   "execution_count": null,
   "metadata": {},
   "outputs": [],
   "source": []
  }
 ],
 "metadata": {
  "kernelspec": {
   "display_name": "Python 3",
   "language": "python",
   "name": "python3"
  },
  "language_info": {
   "codemirror_mode": {
    "name": "ipython",
    "version": 3
   },
   "file_extension": ".py",
   "mimetype": "text/x-python",
   "name": "python",
   "nbconvert_exporter": "python",
   "pygments_lexer": "ipython3",
   "version": "3.8.3"
  }
 },
 "nbformat": 4,
 "nbformat_minor": 4
}
