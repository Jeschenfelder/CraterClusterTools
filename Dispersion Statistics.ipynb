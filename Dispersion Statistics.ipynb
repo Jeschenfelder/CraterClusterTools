{
 "cells": [
  {
   "cell_type": "code",
   "execution_count": 2,
   "metadata": {},
   "outputs": [],
   "source": [
    "import pandas as pd\n",
    "import math as mt\n",
    "import numpy as np\n",
    "import matplotlib.pyplot as plt"
   ]
  },
  {
   "cell_type": "code",
   "execution_count": 3,
   "metadata": {},
   "outputs": [],
   "source": [
    "#copy dispersion function:\n",
    "def dispersion(ClusterData, x = 'x_coord', y = 'y_coord'):\n",
    "    '''\n",
    "    This function calculates the dispersion of a cluster from a pandas dataframe giving the x and y coordinates of .\n",
    "    The dispersion is defined as the standard deviation of the distance between all possible crater pairs.\n",
    "    This method gives meaningul results for clusters with more than 3 craters in a cluster.\n",
    "    It is using the radius of Mars to convert from lat/lon data to metres.\n",
    "\n",
    "    :param ClusterData: Dataframe containing all craters in clusters\n",
    "    :type ClusterData: pandas dataframe\n",
    "    :param x: column name giving the longitude, defaults to 'x_coord'\n",
    "    :type x: str\n",
    "    :param y: column name giving the latitude, defaults to 'y_coord'\n",
    "    :type y: str\n",
    "    '''\n",
    "    Rmars = 3390000 #radius of Mars in metres\n",
    "    #x and y are the names of the column in ClusterData denoting the x and y coordinates respectively\n",
    "    #Assumes that x and y are in degrees still!\n",
    "    df = ClusterData.copy() #create work copy of database\n",
    "    coord_array = np.array(df[[x, y]]) #create array of xy coordinates for craters in cluster\n",
    "    sep_list = []\n",
    "    for n in range(0, len(coord_array)): #iterating over all craters for separation calculation\n",
    "        for m in range(n+1, len(coord_array)): #calculating seperation ((x2-x1)**2 + (y2 - y1)**2)**0.5 for all combinations\n",
    "            dx= (coord_array[m,0] - coord_array[n,0]) *Rmars*(np.pi/180)*mt.sin(mt.radians(90 - ((coord_array[m,0]+ coord_array[n,0])/2))) #converting to metres based xy coordinates\n",
    "            dy = (coord_array[m,1] - coord_array[n,1]) *Rmars*(np.pi/180)\n",
    "            sep = (dx**2+ dy**2)**0.5\n",
    "            sep_list.append(sep) #adding all separations to list\n",
    "    dispersion = np.std(sep_list) #calculating dispersion as standard deviation\n",
    "    sep_array = np.array(sep_list)\n",
    "    return dispersion, sep_array"
   ]
  },
  {
   "cell_type": "code",
   "execution_count": 4,
   "metadata": {},
   "outputs": [],
   "source": [
    "#import crater data:\n",
    "df = pd.read_excel('DataTables/MainSheet.xlsx', index_col = [0,1])\n",
    "df_parameters = pd.read_excel('C:/Users/jae4518/OneDrive - Imperial College London/HiRise_Images_Clusters/ClustersDataSheet/NewClustersParameters.xlsx', index_col = 0)\n",
    "df_observations = pd.read_excel('C:/Users/jae4518/OneDrive - Imperial College London/HiRise_Images_Clusters/Analysis/NewClustersObservations.xlsx', index_col = 0)"
   ]
  },
  {
   "cell_type": "code",
   "execution_count": 75,
   "metadata": {},
   "outputs": [],
   "source": [
    "#run the dispersion on all clusters and create a Multiindex of all separations for each cluster\n",
    "df_separations = pd.DataFrame()\n",
    "for ID, df_new in df.groupby(level = 0):\n",
    "    if len(df_new.index)>3:\n",
    "        disp, sep_array = dispersion(df_new)\n",
    "        ID_list = len(sep_array)*[ID]\n",
    "        index = [i for i in range(len(sep_array))]\n",
    "        df_sep = pd.DataFrame(data = {'HiRise_ID':ID_list})\n",
    "        df_sep['pair'] = index\n",
    "        df_sep['Separation(m)'] = sep_array\n",
    "        df_sep['Normalized Separation'] = sep_array/np.mean(sep_array)\n",
    "        df_sep.set_index(['HiRise_ID', 'pair'], inplace = True)\n",
    "        df_separations = pd.concat([df_separations, df_sep])"
   ]
  },
  {
   "cell_type": "code",
   "execution_count": 83,
   "metadata": {},
   "outputs": [
    {
     "name": "stdout",
     "output_type": "stream",
     "text": [
      "         HiRise_ID  Number_Craters   d_eff  d_max  central_latitude  \\\n",
      "0  ESP_046463_2160             324  17.640   9.14             35.86   \n",
      "1  PSP_007009_1905             181  20.780  12.90             10.39   \n",
      "2  ESP_051357_1880             157  29.600  16.50              7.80   \n",
      "3  ESP_055581_1985              92   8.190   3.99             18.52   \n",
      "4  ESP_047175_1955              68   7.943   4.19             15.56   \n",
      "\n",
      "   central_longitude  Dispersion(m)   F_value  N>D/2          R1  ...  \\\n",
      "0            -129.13      92.281688  0.030581     10  177.294324  ...   \n",
      "1            -109.77     325.046990  0.033149      6  250.652079  ...   \n",
      "2             176.45      62.331206  0.038217      6  127.423434  ...   \n",
      "3              52.31     165.519829  0.186813     17  266.375047  ...   \n",
      "4            -125.91      64.146956  0.191176     13   46.017558  ...   \n",
      "\n",
      "   Separation median (m)                                Separation mode (m)  \\\n",
      "0             140.232333  0          1.263719\n",
      "1          1.440064\n",
      "2     ...   \n",
      "1             381.970628  0           2.420023\n",
      "1           2.727354\n",
      "2   ...   \n",
      "2             111.436411  0          2.594725\n",
      "1          3.005529\n",
      "2     ...   \n",
      "3             255.991881  0          1.922390\n",
      "1          2.507297\n",
      "2     ...   \n",
      "4              81.266780  0         0.979999\n",
      "1         1.534651\n",
      "2       ...   \n",
      "\n",
      "   Separation lowest decentile (m)  Separation lowest quartile (m)  \\\n",
      "0                        49.120029                       85.804447   \n",
      "1                        92.506913                      191.686955   \n",
      "2                        42.633048                       71.734517   \n",
      "3                        86.685839                      152.685654   \n",
      "4                        26.258055                       45.660140   \n",
      "\n",
      "  Observed Subclustering?  Normalized Separation mean  \\\n",
      "0                   False                         1.0   \n",
      "1                    True                         1.0   \n",
      "2                   False                         1.0   \n",
      "3                   False                         1.0   \n",
      "4                    True                         1.0   \n",
      "\n",
      "   Normalized Separation median  \\\n",
      "0                      0.897489   \n",
      "1                      0.848514   \n",
      "2                      0.941714   \n",
      "3                      0.917813   \n",
      "4                      0.845144   \n",
      "\n",
      "                          Normalized Separation mode  \\\n",
      "0  0        0.008088\n",
      "1        0.009216\n",
      "2        0...   \n",
      "1  0        0.005376\n",
      "1        0.006059\n",
      "2        0...   \n",
      "2  0        0.021927\n",
      "1        0.025399\n",
      "2        0...   \n",
      "3  0       0.006892\n",
      "1       0.008989\n",
      "2       0.01...   \n",
      "4  0       0.010192\n",
      "1       0.015960\n",
      "2       0.01...   \n",
      "\n",
      "   Normalized Separation lowest decentile  \\\n",
      "0                                0.314369   \n",
      "1                                0.205496   \n",
      "2                                0.360278   \n",
      "3                                0.310797   \n",
      "4                                0.273074   \n",
      "\n",
      "   Normalized Separation lowest quartile  \n",
      "0                               0.549150  \n",
      "1                               0.425816  \n",
      "2                               0.606206  \n",
      "3                               0.547427  \n",
      "4                               0.474849  \n",
      "\n",
      "[5 rows x 23 columns]\n"
     ]
    }
   ],
   "source": [
    "#adding the mean, median, mode, lowest quartile and lowest decentile to the parameters list\n",
    "mean_dict = {}\n",
    "median_dict = {}\n",
    "mode_dict = {}\n",
    "quart_dict = {}\n",
    "cent_dict = {}\n",
    "for ID, df_new in df_separations.groupby(level = 0):\n",
    "    mean_dict[ID] = df_new['Normalized Separation'].mean()\n",
    "    median_dict[ID] = df_new['Normalized Separation'].median()\n",
    "    mode_dict[ID] = df_new['Normalized Separation'].mode()\n",
    "    cent_dict[ID], quart_dict[ID] = df_new['Normalized Separation'].quantile([0.1, 0.25])\n",
    "df_parameters['Normalized Separation mean'] = df_parameters['HiRise_ID'].map(mean_dict)\n",
    "df_parameters['Normalized Separation median'] = df_parameters['HiRise_ID'].map(median_dict)\n",
    "df_parameters['Normalized Separation mode'] = df_parameters['HiRise_ID'].map(mode_dict)\n",
    "df_parameters['Normalized Separation lowest decentile'] = df_parameters['HiRise_ID'].map(cent_dict)\n",
    "df_parameters['Normalized Separation lowest quartile'] = df_parameters['HiRise_ID'].map(quart_dict)\n",
    "print(df_parameters.head())"
   ]
  },
  {
   "cell_type": "code",
   "execution_count": 7,
   "metadata": {},
   "outputs": [],
   "source": [
    "df_parameters.to_excel('DataTables/NewClusterParameters.xlsx') #save to the repository"
   ]
  },
  {
   "cell_type": "code",
   "execution_count": 84,
   "metadata": {},
   "outputs": [],
   "source": [
    "subclustered = df_observations['HiRise_ID'].loc[df_observations['Subclustering?'] == True].tolist()\n",
    "sub = {}\n",
    "for element in subclustered:\n",
    "    sub[element] = True\n",
    "no_subclustered = df_observations['HiRise_ID'].loc[df_observations['Subclustering?'] == False].tolist()\n",
    "for element in no_subclustered:\n",
    "    sub[element] = False"
   ]
  },
  {
   "cell_type": "code",
   "execution_count": 85,
   "metadata": {},
   "outputs": [
    {
     "data": {
      "text/plain": [
       "array(['HiRise_ID', 'Number_Craters', 'd_eff', 'd_max',\n",
       "       'central_latitude', 'central_longitude', 'Dispersion(m)',\n",
       "       'F_value', 'N>D/2', 'R1', 'R2', 'Impact Angle',\n",
       "       'Separation mean (m)', 'Separation median (m)',\n",
       "       'Separation mode (m)', 'Separation lowest decentile (m)',\n",
       "       'Separation lowest quartile (m)', 'Observed Subclustering?',\n",
       "       'Normalized Separation mean', 'Normalized Separation median',\n",
       "       'Normalized Separation mode',\n",
       "       'Normalized Separation lowest decentile',\n",
       "       'Normalized Separation lowest quartile'], dtype=object)"
      ]
     },
     "execution_count": 85,
     "metadata": {},
     "output_type": "execute_result"
    }
   ],
   "source": [
    "df_parameters['Observed Subclustering?'] = df_parameters['HiRise_ID'].map(sub)\n",
    "df_parameters.columns.values"
   ]
  },
  {
   "cell_type": "code",
   "execution_count": 94,
   "metadata": {},
   "outputs": [
    {
     "data": {
      "image/png": "[encoded data removed]",
      "text/plain": [
       "<Figure size 432x288 with 1 Axes>"
      ]
     },
     "metadata": {
      "needs_background": "light"
     },
     "output_type": "display_data"
    }
   ],
   "source": [
    "for ID, df_new in df_parameters.groupby(by = df_parameters['Observed Subclustering?']):\n",
    "    df_new['Normalized Separation lowest quartile'].hist()"
   ]
  },
  {
   "cell_type": "code",
   "execution_count": null,
   "metadata": {},
   "outputs": [],
   "source": []
  }
 ],
 "metadata": {
  "kernelspec": {
   "display_name": "Python 3",
   "language": "python",
   "name": "python3"
  },
  "language_info": {
   "codemirror_mode": {
    "name": "ipython",
    "version": 3
   },
   "file_extension": ".py",
   "mimetype": "text/x-python",
   "name": "python",
   "nbconvert_exporter": "python",
   "pygments_lexer": "ipython3",
   "version": "3.8.3"
  }
 },
 "nbformat": 4,
 "nbformat_minor": 4
}
